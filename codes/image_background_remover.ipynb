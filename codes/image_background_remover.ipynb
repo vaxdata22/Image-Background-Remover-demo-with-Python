{
 "cells": [
  {
   "cell_type": "code",
   "execution_count": null,
   "id": "5a222936",
   "metadata": {},
   "outputs": [],
   "source": [
    "'''\n",
    "Pillow (PIL) is used for image opening/saving, manipulation/conversion\n",
    "Rembg is for automatic image background detection and removal\n",
    "ONNX Runtime is for high performance running of code on GPUs/TPUs\n",
    "'''\n",
    "\n",
    "pip install pillow rembg onnxruntime"
   ]
  },
  {
   "cell_type": "code",
   "execution_count": null,
   "id": "16435481",
   "metadata": {},
   "outputs": [],
   "source": [
    "'''\n",
    "The romove function is to remove the image background\n",
    "The Image function is for handling image opening, etc\n",
    "'''\n",
    "\n",
    "from rembg import remove\n",
    "from PIL import Image"
   ]
  },
  {
   "cell_type": "code",
   "execution_count": null,
   "id": "526af0ef",
   "metadata": {},
   "outputs": [],
   "source": [
    "# Open the image, remove its background, then save it!\n",
    "\n",
    "img = Image.open(\"don.jpg\")\n",
    "output = remove(img)\n",
    "output.save(\"don.png\")"
   ]
  }
 ],
 "metadata": {
  "kernelspec": {
   "display_name": "Python 3 (ipykernel)",
   "language": "python",
   "name": "python3"
  },
  "language_info": {
   "codemirror_mode": {
    "name": "ipython",
    "version": 3
   },
   "file_extension": ".py",
   "mimetype": "text/x-python",
   "name": "python",
   "nbconvert_exporter": "python",
   "pygments_lexer": "ipython3",
   "version": "3.9.12"
  }
 },
 "nbformat": 4,
 "nbformat_minor": 5
}
